{
 "cells": [
  {
   "cell_type": "code",
   "execution_count": 1,
   "id": "e10577e3-9c62-46f7-b069-b83353f8c5e4",
   "metadata": {},
   "outputs": [],
   "source": [
    "import cv2 ,numpy"
   ]
  },
  {
   "cell_type": "code",
   "execution_count": 2,
   "id": "2c0955c5-aa66-4a2d-b679-32d87f27e703",
   "metadata": {},
   "outputs": [],
   "source": [
    "im1 = cv2.imread('img1.jpg')\n",
    "cv2.imshow(\"img1\", im1)\n",
    "cv2.waitKey()\n",
    "cv2.destroyAllWindows()"
   ]
  },
  {
   "cell_type": "code",
   "execution_count": 3,
   "id": "5382829e-6067-4774-83c3-69a42b939035",
   "metadata": {},
   "outputs": [],
   "source": [
    "im2 = cv2.imread('img2.jpg')\n",
    "cv2.imshow(\"img2\", im2)\n",
    "cv2.waitKey()\n",
    "cv2.destroyAllWindows()"
   ]
  },
  {
   "cell_type": "code",
   "execution_count": 4,
   "id": "144990e9-a32e-4487-a0bd-0a5d2d7eca25",
   "metadata": {},
   "outputs": [],
   "source": [
    "im_v = cv2.vconcat([im1, im1])\n",
    "cv2.imshow(\"img2\", im_v)\n",
    "cv2.waitKey()\n",
    "cv2.destroyAllWindows()"
   ]
  },
  {
   "cell_type": "code",
   "execution_count": 5,
   "id": "decba03e-0e56-43bf-82e9-7ca0a7ba2c0a",
   "metadata": {},
   "outputs": [],
   "source": [
    "im_h = cv2.hconcat([im1, im1])\n",
    "im_v = cv2.vconcat([im1, im1])\n",
    "cv2.imshow(\"img2\", im_h)\n",
    "cv2.waitKey()\n",
    "cv2.destroyAllWindows()"
   ]
  },
  {
   "cell_type": "code",
   "execution_count": 6,
   "id": "e127b9e8-4f09-4f5e-955a-28a61b52f2bb",
   "metadata": {},
   "outputs": [
    {
     "data": {
      "text/plain": [
       "(692, 1024, 3)"
      ]
     },
     "execution_count": 6,
     "metadata": {},
     "output_type": "execute_result"
    }
   ],
   "source": [
    "im1.shape"
   ]
  },
  {
   "cell_type": "code",
   "execution_count": 7,
   "id": "ec2f020c-ddfc-4d56-95b2-0e3bb701a93e",
   "metadata": {},
   "outputs": [
    {
     "data": {
      "text/plain": [
       "(667, 1200, 3)"
      ]
     },
     "execution_count": 7,
     "metadata": {},
     "output_type": "execute_result"
    }
   ],
   "source": [
    "im2.shape"
   ]
  },
  {
   "cell_type": "code",
   "execution_count": 8,
   "id": "f373b920-1a31-419d-a3c7-d549523c6347",
   "metadata": {},
   "outputs": [],
   "source": [
    "height=max(im1.shape[0],im2.shape[0])"
   ]
  },
  {
   "cell_type": "code",
   "execution_count": 9,
   "id": "363eec22-e4ac-41b6-bedc-acdc5ad9d81c",
   "metadata": {},
   "outputs": [
    {
     "data": {
      "text/plain": [
       "692"
      ]
     },
     "execution_count": 9,
     "metadata": {},
     "output_type": "execute_result"
    }
   ],
   "source": [
    "height"
   ]
  },
  {
   "cell_type": "code",
   "execution_count": 10,
   "id": "cdcf74ba-33fc-407a-a947-5ddec871a9dc",
   "metadata": {},
   "outputs": [],
   "source": [
    "width=im1.shape[1]+im2.shape[1]"
   ]
  },
  {
   "cell_type": "code",
   "execution_count": 11,
   "id": "73cb2366-3859-461a-ad8e-8a9320a3d7db",
   "metadata": {},
   "outputs": [
    {
     "data": {
      "text/plain": [
       "2224"
      ]
     },
     "execution_count": 11,
     "metadata": {},
     "output_type": "execute_result"
    }
   ],
   "source": [
    "width"
   ]
  },
  {
   "cell_type": "code",
   "execution_count": null,
   "id": "55266632-ea61-4f05-b2c6-9bc7d116a893",
   "metadata": {},
   "outputs": [],
   "source": []
  },
  {
   "cell_type": "code",
   "execution_count": 12,
   "id": "ce4c4d2a-6a0a-4e7c-a705-b546198fc9f0",
   "metadata": {},
   "outputs": [],
   "source": [
    "image = numpy.zeros((height,width,3), dtype=\"uint8\")"
   ]
  },
  {
   "cell_type": "code",
   "execution_count": 13,
   "id": "97145c09-d051-409a-8d40-19c19142efb5",
   "metadata": {},
   "outputs": [
    {
     "data": {
      "text/plain": [
       "(692, 2224, 3)"
      ]
     },
     "execution_count": 13,
     "metadata": {},
     "output_type": "execute_result"
    }
   ],
   "source": [
    "image.shape"
   ]
  },
  {
   "cell_type": "code",
   "execution_count": 14,
   "id": "d15c7086-430c-43b3-9244-cf9e1b6e93fe",
   "metadata": {},
   "outputs": [],
   "source": [
    "for row in range(im1.shape[0]):\n",
    "    for col in range(im1.shape[1]):\n",
    "        p = im1[row][col]\n",
    "        image[row][col]=p"
   ]
  },
  {
   "cell_type": "code",
   "execution_count": 15,
   "id": "0d1fdde6-308b-4520-87e1-6a0040439a37",
   "metadata": {},
   "outputs": [],
   "source": [
    "c=im1.shape[1]-1\n",
    "for row in range(im2.shape[0]):\n",
    "    for col in range(im2.shape[1]):\n",
    "        p = im2[row][col]\n",
    "        image[row][col+c]=p"
   ]
  },
  {
   "cell_type": "code",
   "execution_count": null,
   "id": "beccaef4-0a93-463e-8c3a-039b85777ad6",
   "metadata": {},
   "outputs": [],
   "source": [
    "cv2.imwrite(\"h.jpg\",image)\n",
    "cv2.imshow(\"img2\", image)\n",
    "cv2.waitKey()\n",
    "cv2.destroyAllWindows()"
   ]
  },
  {
   "cell_type": "code",
   "execution_count": null,
   "id": "9a666d05-ef13-4791-82bf-c688221693f8",
   "metadata": {},
   "outputs": [],
   "source": [
    "height=im1.shape[0]+im2.shape[0]"
   ]
  },
  {
   "cell_type": "code",
   "execution_count": null,
   "id": "901d5f4d-33af-4d30-848f-4ccc2573b98b",
   "metadata": {},
   "outputs": [],
   "source": [
    "width=max(im1.shape[1],im2.shape[1])"
   ]
  },
  {
   "cell_type": "code",
   "execution_count": null,
   "id": "78e7f465-dcd4-4a61-a4f9-5ba4a64a6cfd",
   "metadata": {},
   "outputs": [],
   "source": [
    "image = numpy.zeros((height,width,3), dtype=\"uint8\")"
   ]
  },
  {
   "cell_type": "code",
   "execution_count": null,
   "id": "18db01e0-3a61-4859-b6f4-9d9457812280",
   "metadata": {},
   "outputs": [],
   "source": [
    "for row in range(im1.shape[0]):\n",
    "    for col in range(im1.shape[1]):\n",
    "        p = im1[row][col]\n",
    "        image[row][col]=p"
   ]
  },
  {
   "cell_type": "code",
   "execution_count": null,
   "id": "0276e687-2443-4913-80fb-41fd53a52be9",
   "metadata": {},
   "outputs": [],
   "source": [
    "h=im1.shape[0]-1\n",
    "for row in range(im2.shape[0]):\n",
    "    for col in range(im2.shape[1]):\n",
    "        p = im2[row][col]\n",
    "        image[row+h][col]=p"
   ]
  },
  {
   "cell_type": "code",
   "execution_count": null,
   "id": "473002f1-67f4-4c9b-9c91-b991785f863a",
   "metadata": {},
   "outputs": [],
   "source": [
    "cv2.imwrite(\"v.jpg\",image)\n",
    "cv2.imshow(\"img2\", image)\n",
    "cv2.waitKey()\n",
    "cv2.destroyAllWindows()"
   ]
  },
  {
   "cell_type": "code",
   "execution_count": null,
   "id": "6d9f9e3f-edb5-4ea3-aaf0-f654fa8282eb",
   "metadata": {},
   "outputs": [],
   "source": []
  },
  {
   "cell_type": "code",
   "execution_count": null,
   "id": "0bf6c7f7-f540-49ef-babb-b423e0d2bc76",
   "metadata": {},
   "outputs": [],
   "source": []
  },
  {
   "cell_type": "code",
   "execution_count": null,
   "id": "46f8f857-b7ef-43de-8ace-88f3060d0a1f",
   "metadata": {},
   "outputs": [],
   "source": []
  },
  {
   "cell_type": "code",
   "execution_count": null,
   "id": "c7335595-3b2d-45e5-894e-a5065895f76a",
   "metadata": {},
   "outputs": [],
   "source": []
  }
 ],
 "metadata": {
  "interpreter": {
   "hash": "26de051ba29f2982a8de78e945f0abaf191376122a1563185a90213a26c5da77"
  },
  "kernelspec": {
   "display_name": "Python 3.10.4 64-bit",
   "language": "python",
   "name": "python3"
  },
  "language_info": {
   "codemirror_mode": {
    "name": "ipython",
    "version": 3
   },
   "file_extension": ".py",
   "mimetype": "text/x-python",
   "name": "python",
   "nbconvert_exporter": "python",
   "pygments_lexer": "ipython3",
   "version": "3.10.4"
  }
 },
 "nbformat": 4,
 "nbformat_minor": 5
}
